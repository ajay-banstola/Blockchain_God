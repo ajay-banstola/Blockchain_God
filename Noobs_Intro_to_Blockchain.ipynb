{
 "cells": [
  {
   "cell_type": "markdown",
   "metadata": {},
   "source": [
    "# Noob's Intro #\n",
    "\n",
    "## 10 Facts about Blockchain##\n",
    "\n",
    "1. Block Chain is a technology. Bitcoin is a cryptocurrency developed using blockchain technology by Satoshi Nakamoto(not known till now) in 2008.\n",
    "\n",
    "2. The first work on a cryptographically secured chain of blocks was described in 1991 by Stuart Haber and W. Scott Stornetta.\n",
    "\n",
    "3. Blokchain is a decentralized technology. The simplest decentralized technology everybody knows is microtorrent, everybody can    be seeders in that technology. i.e not focused in one single centralized server.\n",
    "\n",
    "4. There is also something called the consortium blockchain. This where no one has a complete control. Everybody has equal  power, kind of like democracy but not completely.\n",
    "\n",
    "5. Blockchain can be developed for all of the public with their own set of rules or can be developed for a private sector only.\n",
    "\n",
    "6. Bitcoin is limited. According to one of the rules of Bitcoin ledger, only 21 million bitcoins can be produced.\n",
    "\n",
    "7. According to a study conducted by Accenture, world banking sector will save up to $20 billion by 2022 through implementing blockchain.\n",
    "\n",
    "8. Venezuela is the first country to launch its own cryptocurrency by launching the virtual Petro, backed by crude oil reserves.\n",
    "\n",
    "9. Now you can create child blockchains called plasma chains over the main blockchain network.\n",
    "\n",
    "10. The Japanese city of Tsukuba, north of Tokyo, has recently tested a voting system based on blockchain technology\n",
    "\n",
    "\n",
    "References:\n",
    "\n",
    "https://www.quora.com/What-are-some-amazing-facts-about-blockchain\n",
    "\n",
    "\n",
    "https://bcfocus.com/news/10-blockchain-facts-that-you-must-know-about/19085/\n"
   ]
  },
  {
   "cell_type": "markdown",
   "metadata": {},
   "source": [
    "## Keywords to research on Blockchain ##\n",
    "\n",
    "1.TicketMaster\n",
    "\n",
    "\n",
    "2.Qtum\n",
    "\n",
    "\n",
    "3.Jeff Garzik\n",
    "\n",
    "\n",
    "4.J.P Morgan\n",
    "\n",
    "\n",
    "5.Ambrosus\n",
    "\n",
    "\n",
    "6.Cardano\n",
    "\n",
    "\n",
    "7.EOS\n",
    "\n",
    "\n",
    "8.GUTS"
   ]
  },
  {
   "cell_type": "code",
   "execution_count": null,
   "metadata": {
    "collapsed": true
   },
   "outputs": [],
   "source": []
  }
 ],
 "metadata": {
  "kernelspec": {
   "display_name": "Python 3",
   "language": "python",
   "name": "python3"
  },
  "language_info": {
   "codemirror_mode": {
    "name": "ipython",
    "version": 3
   },
   "file_extension": ".py",
   "mimetype": "text/x-python",
   "name": "python",
   "nbconvert_exporter": "python",
   "pygments_lexer": "ipython3",
   "version": "3.6.6"
  }
 },
 "nbformat": 4,
 "nbformat_minor": 2
}
